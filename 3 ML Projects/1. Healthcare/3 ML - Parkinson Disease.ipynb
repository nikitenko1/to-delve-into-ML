{
 "cells": [
  {
   "cell_type": "markdown",
   "id": "a003dc77",
   "metadata": {},
   "source": [
    "<p style=\"font-family:Verdana; font-size: 26px; color: magenta\"> 3 ML - Parkinson Disease Prediction using Machine Learning - Python</p>"
   ]
  },
  {
   "cell_type": "markdown",
   "id": "10b4febe",
   "metadata": {},
   "source": [
    "<p style=\"font-family:Verdana; font-size: 18px; color: darkorange\"> 1. Data Collection:</p> \n",
    "<p style=\"font-family:Verdana; font-size: 18px; color: darkorange\"> 2. Data Preprocessing:</p>\n",
    "<p style=\"font-family:Verdana; font-size: 18px; color: darkorange\"> 3. Feature Selection:</p>\n",
    "<p style=\"font-family:Verdana; font-size: 18px; color: darkorange\"> 4. Splitting the Dataset:</p>\n",
    "<p style=\"font-family:Verdana; font-size: 18px; color: darkorange\"> 5. Training the Model:</p>\n",
    "<p style=\"font-family:Verdana; font-size: 18px; color: darkorange\"> 6. Evaluating the Model:</p>\n",
    "<p style=\"font-family:Verdana; font-size: 18px; color: darkorange\"> 7. Making Predictions:</p>"
   ]
  },
  {
   "cell_type": "markdown",
   "id": "75ac2781",
   "metadata": {},
   "source": [
    "<p style=\"font-family:Verdana; font-size: 18px; color: orange\"> Step 1: Importing Necessary Libraries</p>"
   ]
  },
  {
   "cell_type": "code",
   "execution_count": 1,
   "id": "7e0ab16e",
   "metadata": {},
   "outputs": [],
   "source": [
    "import numpy as np\n",
    "import pandas as pd\n",
    "import matplotlib.pyplot as plt\n",
    "import seaborn as sb\n",
    "\n",
    "from imblearn.over_sampling import RandomOverSampler\n",
    "from sklearn.model_selection import train_test_split\n",
    "from sklearn.preprocessing import LabelEncoder, MinMaxScaler\n",
    "from sklearn.feature_selection import SelectKBest, chi2\n",
    "from tqdm.notebook import tqdm\n",
    "from sklearn import metrics\n",
    "from sklearn.svm import SVC\n",
    "from xgboost import XGBClassifier\n",
    "from sklearn.linear_model import LogisticRegression\n",
    "\n",
    "import warnings\n",
    "warnings.filterwarnings('ignore')"
   ]
  },
  {
   "cell_type": "markdown",
   "id": "4afb7a19",
   "metadata": {},
   "source": [
    "<p style=\"font-family:Verdana; font-size: 20px; color: orange\"> Step 2: Data Preparation</p>"
   ]
  },
  {
   "cell_type": "code",
   "execution_count": 8,
   "id": "34c776fc",
   "metadata": {},
   "outputs": [
    {
     "data": {
      "text/plain": [
       "(   id  gender      PPE      DFA     RPDE  ...  tqwt_kurtosisValue_dec_33  \\\n",
       " 0   0       1  0.85247  0.71826  0.57227  ...                     4.4625   \n",
       " 1   0       1  0.76686  0.69481  0.53966  ...                     9.5082   \n",
       " 2   0       1  0.85083  0.67604  0.58982  ...                     4.8066   \n",
       " 3   1       0  0.41121  0.79672  0.59257  ...                     4.6857   \n",
       " 4   1       0  0.32790  0.79782  0.53028  ...                    11.6891   \n",
       " \n",
       "    tqwt_kurtosisValue_dec_34  tqwt_kurtosisValue_dec_35  \\\n",
       " 0                     2.6202                     3.0004   \n",
       " 1                     6.5245                     6.3431   \n",
       " 2                     2.9199                     3.1495   \n",
       " 3                     4.8460                     6.2650   \n",
       " 4                     8.2103                     5.0559   \n",
       " \n",
       "    tqwt_kurtosisValue_dec_36  class  \n",
       " 0                    18.9405      1  \n",
       " 1                    45.1780      1  \n",
       " 2                     4.7666      1  \n",
       " 3                     4.0603      1  \n",
       " 4                     6.1164      1  \n",
       " \n",
       " [5 rows x 755 columns],\n",
       " (756, 755))"
      ]
     },
     "execution_count": 8,
     "metadata": {},
     "output_type": "execute_result"
    }
   ],
   "source": [
    "# The dataset we are going to use here includes 755 columns and three observations for each patient.\n",
    "df = pd.read_csv('../../data/parkinson_disease.csv')\n",
    "# To display the maximum number of columns in a Pandas DataFrame, you can use the pd.set_option() function.\n",
    "pd.set_option('display.max_columns', 10)\n",
    "\n",
    "df.head(), df.shape "
   ]
  },
  {
   "cell_type": "code",
   "execution_count": 5,
   "id": "807d6541",
   "metadata": {},
   "outputs": [
    {
     "data": {
      "text/html": [
       "<div>\n",
       "<style scoped>\n",
       "    .dataframe tbody tr th:only-of-type {\n",
       "        vertical-align: middle;\n",
       "    }\n",
       "\n",
       "    .dataframe tbody tr th {\n",
       "        vertical-align: top;\n",
       "    }\n",
       "\n",
       "    .dataframe thead th {\n",
       "        text-align: right;\n",
       "    }\n",
       "</style>\n",
       "<table border=\"1\" class=\"dataframe\">\n",
       "  <thead>\n",
       "    <tr style=\"text-align: right;\">\n",
       "      <th></th>\n",
       "      <th>id</th>\n",
       "      <th>gender</th>\n",
       "      <th>PPE</th>\n",
       "      <th>DFA</th>\n",
       "      <th>RPDE</th>\n",
       "      <th>...</th>\n",
       "      <th>tqwt_kurtosisValue_dec_33</th>\n",
       "      <th>tqwt_kurtosisValue_dec_34</th>\n",
       "      <th>tqwt_kurtosisValue_dec_35</th>\n",
       "      <th>tqwt_kurtosisValue_dec_36</th>\n",
       "      <th>class</th>\n",
       "    </tr>\n",
       "  </thead>\n",
       "  <tbody>\n",
       "    <tr>\n",
       "      <th>130</th>\n",
       "      <td>43</td>\n",
       "      <td>1</td>\n",
       "      <td>0.84398</td>\n",
       "      <td>0.73136</td>\n",
       "      <td>0.31485</td>\n",
       "      <td>...</td>\n",
       "      <td>3.4873</td>\n",
       "      <td>9.1099</td>\n",
       "      <td>5.6423</td>\n",
       "      <td>21.7226</td>\n",
       "      <td>1</td>\n",
       "    </tr>\n",
       "    <tr>\n",
       "      <th>89</th>\n",
       "      <td>29</td>\n",
       "      <td>0</td>\n",
       "      <td>0.82760</td>\n",
       "      <td>0.63579</td>\n",
       "      <td>0.24278</td>\n",
       "      <td>...</td>\n",
       "      <td>4.3029</td>\n",
       "      <td>3.9654</td>\n",
       "      <td>3.2715</td>\n",
       "      <td>2.9646</td>\n",
       "      <td>0</td>\n",
       "    </tr>\n",
       "    <tr>\n",
       "      <th>256</th>\n",
       "      <td>85</td>\n",
       "      <td>1</td>\n",
       "      <td>0.84620</td>\n",
       "      <td>0.72659</td>\n",
       "      <td>0.29898</td>\n",
       "      <td>...</td>\n",
       "      <td>9.7772</td>\n",
       "      <td>7.2245</td>\n",
       "      <td>6.6474</td>\n",
       "      <td>6.9022</td>\n",
       "      <td>1</td>\n",
       "    </tr>\n",
       "    <tr>\n",
       "      <th>93</th>\n",
       "      <td>31</td>\n",
       "      <td>1</td>\n",
       "      <td>0.78913</td>\n",
       "      <td>0.80000</td>\n",
       "      <td>0.55702</td>\n",
       "      <td>...</td>\n",
       "      <td>20.2445</td>\n",
       "      <td>17.3021</td>\n",
       "      <td>14.3486</td>\n",
       "      <td>41.9353</td>\n",
       "      <td>1</td>\n",
       "    </tr>\n",
       "    <tr>\n",
       "      <th>503</th>\n",
       "      <td>167</td>\n",
       "      <td>1</td>\n",
       "      <td>0.84981</td>\n",
       "      <td>0.71816</td>\n",
       "      <td>0.45878</td>\n",
       "      <td>...</td>\n",
       "      <td>3.2354</td>\n",
       "      <td>3.4099</td>\n",
       "      <td>2.9277</td>\n",
       "      <td>8.1257</td>\n",
       "      <td>1</td>\n",
       "    </tr>\n",
       "  </tbody>\n",
       "</table>\n",
       "<p>5 rows × 755 columns</p>\n",
       "</div>"
      ],
      "text/plain": [
       "      id  gender      PPE      DFA     RPDE  ...  tqwt_kurtosisValue_dec_33  \\\n",
       "130   43       1  0.84398  0.73136  0.31485  ...                     3.4873   \n",
       "89    29       0  0.82760  0.63579  0.24278  ...                     4.3029   \n",
       "256   85       1  0.84620  0.72659  0.29898  ...                     9.7772   \n",
       "93    31       1  0.78913  0.80000  0.55702  ...                    20.2445   \n",
       "503  167       1  0.84981  0.71816  0.45878  ...                     3.2354   \n",
       "\n",
       "     tqwt_kurtosisValue_dec_34  tqwt_kurtosisValue_dec_35  \\\n",
       "130                     9.1099                     5.6423   \n",
       "89                      3.9654                     3.2715   \n",
       "256                     7.2245                     6.6474   \n",
       "93                     17.3021                    14.3486   \n",
       "503                     3.4099                     2.9277   \n",
       "\n",
       "     tqwt_kurtosisValue_dec_36  class  \n",
       "130                    21.7226      1  \n",
       "89                      2.9646      0  \n",
       "256                     6.9022      1  \n",
       "93                     41.9353      1  \n",
       "503                     8.1257      1  \n",
       "\n",
       "[5 rows x 755 columns]"
      ]
     },
     "execution_count": 5,
     "metadata": {},
     "output_type": "execute_result"
    }
   ],
   "source": [
    "df.sample(5)"
   ]
  },
  {
   "cell_type": "markdown",
   "id": "3ad0c528",
   "metadata": {},
   "source": [
    "<p style=\"font-family:Verdana; font-size: 20px; color: orange\"> Step 2+: Data Exploration and Cleaning</p>"
   ]
  },
  {
   "cell_type": "code",
   "execution_count": 6,
   "id": "f1b2eaee",
   "metadata": {},
   "outputs": [
    {
     "name": "stdout",
     "output_type": "stream",
     "text": [
      "<class 'pandas.core.frame.DataFrame'>\n",
      "RangeIndex: 756 entries, 0 to 755\n",
      "Columns: 755 entries, id to class\n",
      "dtypes: float64(749), int64(6)\n",
      "memory usage: 4.4 MB\n"
     ]
    }
   ],
   "source": [
    "df.info()"
   ]
  },
  {
   "cell_type": "code",
   "execution_count": 7,
   "id": "cc8fcf8f",
   "metadata": {},
   "outputs": [
    {
     "data": {
      "text/html": [
       "<div>\n",
       "<style scoped>\n",
       "    .dataframe tbody tr th:only-of-type {\n",
       "        vertical-align: middle;\n",
       "    }\n",
       "\n",
       "    .dataframe tbody tr th {\n",
       "        vertical-align: top;\n",
       "    }\n",
       "\n",
       "    .dataframe thead th {\n",
       "        text-align: right;\n",
       "    }\n",
       "</style>\n",
       "<table border=\"1\" class=\"dataframe\">\n",
       "  <thead>\n",
       "    <tr style=\"text-align: right;\">\n",
       "      <th></th>\n",
       "      <th>count</th>\n",
       "      <th>mean</th>\n",
       "      <th>std</th>\n",
       "      <th>min</th>\n",
       "      <th>25%</th>\n",
       "      <th>50%</th>\n",
       "      <th>75%</th>\n",
       "      <th>max</th>\n",
       "    </tr>\n",
       "  </thead>\n",
       "  <tbody>\n",
       "    <tr>\n",
       "      <th>id</th>\n",
       "      <td>756.0</td>\n",
       "      <td>125.500000</td>\n",
       "      <td>72.793721</td>\n",
       "      <td>0.000000</td>\n",
       "      <td>62.750000</td>\n",
       "      <td>125.500000</td>\n",
       "      <td>188.250000</td>\n",
       "      <td>251.00000</td>\n",
       "    </tr>\n",
       "    <tr>\n",
       "      <th>gender</th>\n",
       "      <td>756.0</td>\n",
       "      <td>0.515873</td>\n",
       "      <td>0.500079</td>\n",
       "      <td>0.000000</td>\n",
       "      <td>0.000000</td>\n",
       "      <td>1.000000</td>\n",
       "      <td>1.000000</td>\n",
       "      <td>1.00000</td>\n",
       "    </tr>\n",
       "    <tr>\n",
       "      <th>PPE</th>\n",
       "      <td>756.0</td>\n",
       "      <td>0.746284</td>\n",
       "      <td>0.169294</td>\n",
       "      <td>0.041551</td>\n",
       "      <td>0.762833</td>\n",
       "      <td>0.809655</td>\n",
       "      <td>0.834315</td>\n",
       "      <td>0.90766</td>\n",
       "    </tr>\n",
       "    <tr>\n",
       "      <th>DFA</th>\n",
       "      <td>756.0</td>\n",
       "      <td>0.700414</td>\n",
       "      <td>0.069718</td>\n",
       "      <td>0.543500</td>\n",
       "      <td>0.647053</td>\n",
       "      <td>0.700525</td>\n",
       "      <td>0.754985</td>\n",
       "      <td>0.85264</td>\n",
       "    </tr>\n",
       "    <tr>\n",
       "      <th>RPDE</th>\n",
       "      <td>756.0</td>\n",
       "      <td>0.489058</td>\n",
       "      <td>0.137442</td>\n",
       "      <td>0.154300</td>\n",
       "      <td>0.386537</td>\n",
       "      <td>0.484355</td>\n",
       "      <td>0.586515</td>\n",
       "      <td>0.87123</td>\n",
       "    </tr>\n",
       "    <tr>\n",
       "      <th>...</th>\n",
       "      <td>...</td>\n",
       "      <td>...</td>\n",
       "      <td>...</td>\n",
       "      <td>...</td>\n",
       "      <td>...</td>\n",
       "      <td>...</td>\n",
       "      <td>...</td>\n",
       "      <td>...</td>\n",
       "    </tr>\n",
       "    <tr>\n",
       "      <th>tqwt_kurtosisValue_dec_33</th>\n",
       "      <td>756.0</td>\n",
       "      <td>12.375335</td>\n",
       "      <td>16.341665</td>\n",
       "      <td>1.628700</td>\n",
       "      <td>3.114375</td>\n",
       "      <td>4.741450</td>\n",
       "      <td>12.201325</td>\n",
       "      <td>73.53220</td>\n",
       "    </tr>\n",
       "    <tr>\n",
       "      <th>tqwt_kurtosisValue_dec_34</th>\n",
       "      <td>756.0</td>\n",
       "      <td>14.799230</td>\n",
       "      <td>15.722502</td>\n",
       "      <td>1.861700</td>\n",
       "      <td>3.665925</td>\n",
       "      <td>6.725700</td>\n",
       "      <td>21.922050</td>\n",
       "      <td>62.00730</td>\n",
       "    </tr>\n",
       "    <tr>\n",
       "      <th>tqwt_kurtosisValue_dec_35</th>\n",
       "      <td>756.0</td>\n",
       "      <td>14.751559</td>\n",
       "      <td>14.432979</td>\n",
       "      <td>1.955900</td>\n",
       "      <td>3.741275</td>\n",
       "      <td>7.334250</td>\n",
       "      <td>22.495175</td>\n",
       "      <td>57.54430</td>\n",
       "    </tr>\n",
       "    <tr>\n",
       "      <th>tqwt_kurtosisValue_dec_36</th>\n",
       "      <td>756.0</td>\n",
       "      <td>31.481110</td>\n",
       "      <td>34.230991</td>\n",
       "      <td>2.364000</td>\n",
       "      <td>3.948750</td>\n",
       "      <td>10.637250</td>\n",
       "      <td>61.125325</td>\n",
       "      <td>156.42370</td>\n",
       "    </tr>\n",
       "    <tr>\n",
       "      <th>class</th>\n",
       "      <td>756.0</td>\n",
       "      <td>0.746032</td>\n",
       "      <td>0.435568</td>\n",
       "      <td>0.000000</td>\n",
       "      <td>0.000000</td>\n",
       "      <td>1.000000</td>\n",
       "      <td>1.000000</td>\n",
       "      <td>1.00000</td>\n",
       "    </tr>\n",
       "  </tbody>\n",
       "</table>\n",
       "<p>755 rows × 8 columns</p>\n",
       "</div>"
      ],
      "text/plain": [
       "                           count        mean        std       min        25%  \\\n",
       "id                         756.0  125.500000  72.793721  0.000000  62.750000   \n",
       "gender                     756.0    0.515873   0.500079  0.000000   0.000000   \n",
       "PPE                        756.0    0.746284   0.169294  0.041551   0.762833   \n",
       "DFA                        756.0    0.700414   0.069718  0.543500   0.647053   \n",
       "RPDE                       756.0    0.489058   0.137442  0.154300   0.386537   \n",
       "...                          ...         ...        ...       ...        ...   \n",
       "tqwt_kurtosisValue_dec_33  756.0   12.375335  16.341665  1.628700   3.114375   \n",
       "tqwt_kurtosisValue_dec_34  756.0   14.799230  15.722502  1.861700   3.665925   \n",
       "tqwt_kurtosisValue_dec_35  756.0   14.751559  14.432979  1.955900   3.741275   \n",
       "tqwt_kurtosisValue_dec_36  756.0   31.481110  34.230991  2.364000   3.948750   \n",
       "class                      756.0    0.746032   0.435568  0.000000   0.000000   \n",
       "\n",
       "                                  50%         75%        max  \n",
       "id                         125.500000  188.250000  251.00000  \n",
       "gender                       1.000000    1.000000    1.00000  \n",
       "PPE                          0.809655    0.834315    0.90766  \n",
       "DFA                          0.700525    0.754985    0.85264  \n",
       "RPDE                         0.484355    0.586515    0.87123  \n",
       "...                               ...         ...        ...  \n",
       "tqwt_kurtosisValue_dec_33    4.741450   12.201325   73.53220  \n",
       "tqwt_kurtosisValue_dec_34    6.725700   21.922050   62.00730  \n",
       "tqwt_kurtosisValue_dec_35    7.334250   22.495175   57.54430  \n",
       "tqwt_kurtosisValue_dec_36   10.637250   61.125325  156.42370  \n",
       "class                        1.000000    1.000000    1.00000  \n",
       "\n",
       "[755 rows x 8 columns]"
      ]
     },
     "execution_count": 7,
     "metadata": {},
     "output_type": "execute_result"
    }
   ],
   "source": [
    "df.describe().T"
   ]
  },
  {
   "cell_type": "code",
   "execution_count": 9,
   "id": "d1ad16b0",
   "metadata": {},
   "outputs": [
    {
     "data": {
      "text/plain": [
       "0"
      ]
     },
     "execution_count": 9,
     "metadata": {},
     "output_type": "execute_result"
    }
   ],
   "source": [
    "# This removes any rows with missing values (NaN) from the DataFrame.\n",
    "df.dropna(axis = 0, inplace = True)\n",
    "df.isnull().sum().sum()"
   ]
  },
  {
   "cell_type": "markdown",
   "id": "439bb0cb",
   "metadata": {},
   "source": [
    "<p style=\"font-family:Verdana; font-size: 20px; color: orange\"> Step 2+: Data Wrangling</p>"
   ]
  },
  {
   "cell_type": "code",
   "execution_count": null,
   "id": "aaf0f2cb",
   "metadata": {},
   "outputs": [],
   "source": [
    "# Data wrangling involves restructuring and transforming the dataset to make it suitable for analysis."
   ]
  },
  {
   "cell_type": "code",
   "execution_count": 10,
   "id": "fc88b9bf",
   "metadata": {},
   "outputs": [],
   "source": [
    "# df.groupby('id').mean().reset_index(): Groups the dataset by the \"id\" column and calculates the mean of numerical features. \n",
    "# This helps in aggregating multiple records of the same id (patient id).\n",
    "# df.drop('id', axis=1, inplace=True): Removes the \"id\" column as it is no longer needed after aggregation.\n",
    "df = df.groupby('id').mean().reset_index()\n",
    "df.drop('id', axis=1, inplace=True)"
   ]
  },
  {
   "cell_type": "markdown",
   "id": "2fa5df57",
   "metadata": {},
   "source": [
    "> Multicollinearity refers to a situation in statistical modeling where two or more predictor variables are highly correlated with each other."
   ]
  },
  {
   "cell_type": "code",
   "execution_count": 12,
   "id": "e98b39a4",
   "metadata": {},
   "outputs": [],
   "source": [
    "# df[col].corr(df[col1]): \n",
    "# Computes the Pearson correlation coefficient between two numerical features.\n",
    "# If correlation > 0.7: \n",
    "# The feature is considered highly correlated and is removed from the dataset to reduce redundancy.\n",
    "# The class column is excluded: \n",
    "# Since it represents the target variable, we do not check its correlation with other features."
   ]
  },
  {
   "cell_type": "code",
   "execution_count": 17,
   "id": "7bac72b1",
   "metadata": {},
   "outputs": [
    {
     "data": {
      "text/plain": [
       "0      1.0\n",
       "1      1.0\n",
       "2      1.0\n",
       "3      1.0\n",
       "4      1.0\n",
       "      ... \n",
       "247    1.0\n",
       "248    1.0\n",
       "249    1.0\n",
       "250    0.0\n",
       "251    0.0\n",
       "Name: class, Length: 252, dtype: float64"
      ]
     },
     "execution_count": 17,
     "metadata": {},
     "output_type": "execute_result"
    }
   ],
   "source": [
    "df.iloc[:, -1] "
   ]
  },
  {
   "cell_type": "code",
   "execution_count": 18,
   "id": "fd8baac4",
   "metadata": {},
   "outputs": [
    {
     "data": {
      "text/plain": [
       "(252, 287)"
      ]
     },
     "execution_count": 18,
     "metadata": {},
     "output_type": "execute_result"
    }
   ],
   "source": [
    "columns = list(df.columns)\n",
    "for col in columns:\n",
    "    if col == 'class':\n",
    "        continue\n",
    "\n",
    "    filtered_columns = [col]\n",
    "    for col1 in df.columns:\n",
    "        if((col == col1) | (col == 'class')):\n",
    "            continue\n",
    "\n",
    "        val = df[col].corr(df[col1])\n",
    "        if val > 0.7:\n",
    "            # If the correlation between the two features is more than 0.7, remove it\n",
    "            columns.remove(col1)\n",
    "            continue\n",
    "        else:\n",
    "            filtered_columns.append(col1)\n",
    "            \n",
    "    df = df[filtered_columns]\n",
    "df.shape"
   ]
  },
  {
   "cell_type": "code",
   "execution_count": 19,
   "id": "69c3d99f",
   "metadata": {},
   "outputs": [],
   "source": [
    "# Now we can see that the dataset contained 755 features but after removing highly correlated ones \n",
    "# the feature space was reduced to 287 columns."
   ]
  },
  {
   "cell_type": "markdown",
   "id": "10cc9685",
   "metadata": {},
   "source": [
    "<p style=\"font-family:Verdana; font-size: 20px; color: orange\"> Step 2+: Feature Selection</p>"
   ]
  },
  {
   "cell_type": "code",
   "execution_count": 20,
   "id": "4222360e",
   "metadata": {},
   "outputs": [
    {
     "data": {
      "text/plain": [
       "(252, 31)"
      ]
     },
     "execution_count": 20,
     "metadata": {},
     "output_type": "execute_result"
    }
   ],
   "source": [
    "# Extracts the feature set by removing the target variable (class).\n",
    "X = df.drop('class', axis=1)\n",
    "# Normalizes the feature values to a range of [0,1] using Min-Max Scaling\n",
    "X_norm = MinMaxScaler().fit_transform(X)\n",
    "# Applies the Chi-Square test to select the 30 most important features \n",
    "# based on their relationship with the target variable (class)\n",
    "selector = SelectKBest(chi2, k=30)\n",
    "# Fits the feature selection model on the normalized data.\n",
    "selector.fit(X_norm, df['class'])\n",
    "# Identifies the selected features.\n",
    "filtered_columns = selector.get_support()\n",
    "# Extracts only the top 30 selected features.\n",
    "filtered_data = X.loc[:, filtered_columns]\n",
    "# Reattaches the target variable (class) to the reduced dataset.\n",
    "filtered_data['class'] = df['class']\n",
    "\n",
    "df = filtered_data\n",
    "df.shape"
   ]
  },
  {
   "cell_type": "markdown",
   "id": "8471f25d",
   "metadata": {},
   "source": [
    "> Therefore we reduce the dimensionality of our dataset by 30 since 1 is \"class\" column"
   ]
  },
  {
   "cell_type": "markdown",
   "id": "30a854ec",
   "metadata": {},
   "source": [
    "<p style=\"font-family:Verdana; font-size: 20px; color: orange\"> Step 3: Handling Class Imbalance and Splitting Data</p>"
   ]
  },
  {
   "cell_type": "code",
   "execution_count": null,
   "id": "dc8f3775",
   "metadata": {},
   "outputs": [
    {
     "data": {
      "image/png": "[encoded data removed]",
      "text/plain": [
       "<Figure size 640x480 with 1 Axes>"
      ]
     },
     "metadata": {},
     "output_type": "display_data"
    }
   ],
   "source": [
    "# Counts the occurrences of each class in the dataset.\n",
    "x = df['class'].value_counts()\n",
    "# Creates a pie chart\n",
    "plt.pie(\n",
    "        # Represents the frequency of each class.\n",
    "        x.values,\n",
    "        # Assigns class labels to each slice.\n",
    "        labels = x.index,\n",
    "        # Displays percentages with one decimal place.\n",
    "        autopct='%1.1f%%')\n",
    "plt.show()"
   ]
  },
  {
   "cell_type": "code",
   "execution_count": 23,
   "id": "2ce3745c",
   "metadata": {},
   "outputs": [
    {
     "data": {
      "text/plain": [
       "((302, 30),\n",
       " class\n",
       " 0.0    151\n",
       " 1.0    151\n",
       " Name: count, dtype: int64)"
      ]
     },
     "execution_count": 23,
     "metadata": {},
     "output_type": "execute_result"
    }
   ],
   "source": [
    "# Extracts and stores independent variables\n",
    "features = df.drop('class', axis=1)\n",
    "# Stores the dependent variable\n",
    "target = df['class']\n",
    "\n",
    "X_train, X_val,Y_train, Y_val = train_test_split(features, \n",
    "                                    # Allocates 80% of data for training and 20% for validation\n",
    "                                    target,\n",
    "                                    test_size=0.2,\n",
    "                                    # ensures reproducibility\n",
    "                                    random_state=42)\n",
    "# Oversamples the minority class ensuring both classes have equal representation\n",
    "ros = RandomOverSampler(sampling_strategy=1.0,\n",
    "                        random_state=0)\n",
    "# Applies oversampling to the training dataset\n",
    "X, Y = ros.fit_resample(X_train, Y_train)\n",
    "X.shape, Y.value_counts()"
   ]
  },
  {
   "cell_type": "markdown",
   "id": "55903a78",
   "metadata": {},
   "source": [
    "<p style=\"font-family:Verdana; font-size: 20px; color: orange\"> Step 5-6: Model Training and Evaluation</p>"
   ]
  },
  {
   "cell_type": "code",
   "execution_count": 26,
   "id": "7822622d",
   "metadata": {},
   "outputs": [
    {
     "name": "stdout",
     "output_type": "stream",
     "text": [
      "LogisticRegression(class_weight='balanced') : \n",
      "Training Accuracy :  0.7582781456953642\n",
      "Validation Accuracy :  0.8117760617760617\n",
      "\n",
      "XGBClassifier(base_score=None, booster=None, callbacks=None,\n",
      "              colsample_bylevel=None, colsample_bynode=None,\n",
      "              colsample_bytree=None, device=None, early_stopping_rounds=None,\n",
      "              enable_categorical=False, eval_metric=None, feature_types=None,\n",
      "              feature_weights=None, gamma=None, grow_policy=None,\n",
      "              importance_type=None, interaction_constraints=None,\n",
      "              learning_rate=None, max_bin=None, max_cat_threshold=None,\n",
      "              max_cat_to_onehot=None, max_delta_step=None, max_depth=None,\n",
      "              max_leaves=None, min_child_weight=None, missing=nan,\n",
      "              monotone_constraints=None, multi_strategy=None, n_estimators=None,\n",
      "              n_jobs=None, num_parallel_tree=None, ...) : \n",
      "Training Accuracy :  1.0\n",
      "Validation Accuracy :  0.7808880308880308\n",
      "\n",
      "SVC(probability=True) : \n",
      "Training Accuracy :  0.6258278145695364\n",
      "Validation Accuracy :  0.6505791505791506\n",
      "\n"
     ]
    }
   ],
   "source": [
    "from sklearn.metrics import roc_auc_score as ras\n",
    "\n",
    "models = [LogisticRegression(class_weight='balanced'), XGBClassifier(), SVC(kernel='rbf', probability=True)] \n",
    "for model in models:\n",
    "    # Trains each model in the \"models\" list .\n",
    "    model.fit(X, Y)\n",
    "    print(f'{model} : ')\n",
    "    # Predicts outcomes on the training data.\n",
    "    train_preds = model.predict(X)\n",
    "    # ras(y_resampled, train_preds): Computes the ROC AUC score for training accuracy\n",
    "    print('Training Accuracy : ', ras(Y, train_preds))\n",
    "    # Predicts outcomes on the validation dataset.\n",
    "    val_preds = model.predict(X_val)\n",
    "    # ras(y_val, val_preds): Computes the ROC AUC score for validation accuracy\n",
    "    print('Validation Accuracy : ', ras(Y_val, val_preds))\n",
    "    print()\n"
   ]
  },
  {
   "cell_type": "markdown",
   "id": "3a6f8e59",
   "metadata": {},
   "source": [
    "<p style=\"font-family:Verdana; font-size: 20px; color: orange\"> Step 7: Analyzing Model Performance</p>"
   ]
  },
  {
   "cell_type": "code",
   "execution_count": 27,
   "id": "28e51740",
   "metadata": {},
   "outputs": [
    {
     "data": {
      "image/png": "[encoded data removed]",
      "text/plain": [
       "<Figure size 640x480 with 2 Axes>"
      ]
     },
     "metadata": {},
     "output_type": "display_data"
    }
   ],
   "source": [
    "from sklearn.metrics import ConfusionMatrixDisplay\n",
    "\n",
    "ConfusionMatrixDisplay.from_estimator(models[0], X_val, Y_val)\n",
    "plt.show()"
   ]
  },
  {
   "cell_type": "code",
   "execution_count": 28,
   "id": "dfffbc72",
   "metadata": {},
   "outputs": [],
   "source": [
    "# True Positives (TP) = 31 : The model correctly predicted 31 healthy individuals.\n",
    "# True Negatives (TN) = 11 : The model correctly predicted 11 unhealthy individuals.\n",
    "# False Positives (FP) = 3 : The model incorrectly classified 3 unhealthy individuals as healthy.\n",
    "# False Negatives (FN) = 6 : The model incorrectly classified 6 healthy individuals as unhealthy."
   ]
  },
  {
   "cell_type": "markdown",
   "id": "11b0122c",
   "metadata": {},
   "source": [
    "> This analysis concludes that the model correctly classifies most cases but still misclassified a few unhealthy patients (FN = 6)"
   ]
  },
  {
   "cell_type": "code",
   "execution_count": 30,
   "id": "c3f2e9ef",
   "metadata": {},
   "outputs": [
    {
     "name": "stdout",
     "output_type": "stream",
     "text": [
      "              precision    recall  f1-score   support\n",
      "\n",
      "         0.0       0.65      0.79      0.71        14\n",
      "         1.0       0.91      0.84      0.87        37\n",
      "\n",
      "    accuracy                           0.82        51\n",
      "   macro avg       0.78      0.81      0.79        51\n",
      "weighted avg       0.84      0.82      0.83        51\n",
      "\n"
     ]
    }
   ],
   "source": [
    "from sklearn.metrics import classification_report\n",
    "print(classification_report(Y_val, models[0].predict(X_val)))"
   ]
  },
  {
   "cell_type": "code",
   "execution_count": null,
   "id": "70dce6cf",
   "metadata": {},
   "outputs": [],
   "source": []
  }
 ],
 "metadata": {
  "kernelspec": {
   "display_name": "Python 3",
   "language": "python",
   "name": "python3"
  },
  "language_info": {
   "codemirror_mode": {
    "name": "ipython",
    "version": 3
   },
   "file_extension": ".py",
   "mimetype": "text/x-python",
   "name": "python",
   "nbconvert_exporter": "python",
   "pygments_lexer": "ipython3",
   "version": "3.12.7"
  }
 },
 "nbformat": 4,
 "nbformat_minor": 5
}
