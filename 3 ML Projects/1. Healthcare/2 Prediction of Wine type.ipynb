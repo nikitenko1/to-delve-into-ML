{
 "cells": [
  {
   "cell_type": "markdown",
   "id": "a003dc77",
   "metadata": {},
   "source": [
    "<p style=\"font-family:Verdana; font-size: 26px; color: magenta\"> 2 Prediction of Wine type</p>"
   ]
  },
  {
   "cell_type": "markdown",
   "id": "10b4febe",
   "metadata": {},
   "source": [
    "<p style=\"font-family:Verdana; font-size: 18px; color: darkorange\"> 1. Data Collection:</p> \n",
    "<p style=\"font-family:Verdana; font-size: 18px; color: darkorange\"> 2. Data Preprocessing:</p>\n",
    "<p style=\"font-family:Verdana; font-size: 18px; color: darkorange\"> 3. Feature Selection:</p>\n",
    "<p style=\"font-family:Verdana; font-size: 18px; color: darkorange\"> 4. Splitting the Dataset:</p>\n",
    "<p style=\"font-family:Verdana; font-size: 18px; color: darkorange\"> 5. Training the Model:</p>\n",
    "<p style=\"font-family:Verdana; font-size: 18px; color: darkorange\"> 6. Evaluating the Model:</p>\n",
    "<p style=\"font-family:Verdana; font-size: 18px; color: darkorange\"> 7. Making Predictions:</p>"
   ]
  },
  {
   "cell_type": "markdown",
   "id": "0927daeb",
   "metadata": {},
   "source": [
    "* The dataset consists of 12 variables. Here are a few of them:\n",
    "\n",
    "> Fixed Acidity: This refers to the non-volatile acids in the wine, which contribute to the wine's tartness.\n",
    "\n",
    "> Volatile Acidity: This refers to acetic acid content which can contribute to a vinegar-like taste in wine.\n",
    "\n",
    ">  Citric Acid: Citric acid is one of the fixed acids in wine.\n",
    "\n",
    "> Residual Sugar: This is the sugar that remains after fermentation stops.\n",
    "\n",
    "> Chlorides: Chlorides can contribute to saltiness in wine.\n",
    "\n",
    "> Free Sulfur Dioxide: This is the sulfur dioxide that is added to wine.\n",
    "\n",
    "> Total Sulfur Dioxide: This is the sum of bound and free sulfur dioxide."
   ]
  },
  {
   "cell_type": "markdown",
   "id": "75ac2781",
   "metadata": {},
   "source": [
    "<p style=\"font-family:Verdana; font-size: 18px; color: orange\"> Step 1: Importing Necessary Libraries</p>"
   ]
  },
  {
   "cell_type": "code",
   "execution_count": 4,
   "id": "7e0ab16e",
   "metadata": {},
   "outputs": [],
   "source": [
    "import matplotlib.pyplot as plt\n",
    "import pandas as pd\n",
    "import numpy as np\n",
    "from sklearn.model_selection import train_test_split\n",
    "from keras.models import Sequential\n",
    "from keras.layers import Dense"
   ]
  },
  {
   "cell_type": "markdown",
   "id": "4afb7a19",
   "metadata": {},
   "source": [
    "<p style=\"font-family:Verdana; font-size: 20px; color: orange\"> Step 2: Data Preparation</p>"
   ]
  },
  {
   "cell_type": "code",
   "execution_count": 5,
   "id": "34c776fc",
   "metadata": {},
   "outputs": [
    {
     "data": {
      "text/plain": [
       "(   fixed acidity  volatile acidity  citric acid  residual sugar  chlorides  \\\n",
       " 0            7.4              0.70         0.00             1.9      0.076   \n",
       " 1            7.8              0.88         0.00             2.6      0.098   \n",
       " 2            7.8              0.76         0.04             2.3      0.092   \n",
       " 3           11.2              0.28         0.56             1.9      0.075   \n",
       " 4            7.4              0.70         0.00             1.9      0.076   \n",
       " \n",
       "    free sulfur dioxide  total sulfur dioxide  density    pH  sulphates  \\\n",
       " 0                 11.0                  34.0   0.9978  3.51       0.56   \n",
       " 1                 25.0                  67.0   0.9968  3.20       0.68   \n",
       " 2                 15.0                  54.0   0.9970  3.26       0.65   \n",
       " 3                 17.0                  60.0   0.9980  3.16       0.58   \n",
       " 4                 11.0                  34.0   0.9978  3.51       0.56   \n",
       " \n",
       "    alcohol  quality  type  \n",
       " 0      9.4        5     1  \n",
       " 1      9.8        5     1  \n",
       " 2      9.8        5     1  \n",
       " 3      9.8        6     1  \n",
       " 4      9.4        5     1  ,\n",
       " (6497, 13))"
      ]
     },
     "execution_count": 5,
     "metadata": {},
     "output_type": "execute_result"
    }
   ],
   "source": [
    "# In this step we load the dataset and encode disease labels into numbers \n",
    "# and visualize class distribution to check for imbalance.\n",
    "red = pd.read_csv(\"../../data/winequality-red.csv\", sep=';')\n",
    "white = pd.read_csv(\"../../data/winequality-white.csv\", sep=';')\n",
    "\n",
    "red['type'] = 1\n",
    "white['type'] = 0\n",
    "\n",
    "wines = pd.concat([red, white], ignore_index=True)\n",
    "wines.dropna(inplace=True)\n",
    "wines.head(), wines.shape "
   ]
  },
  {
   "cell_type": "markdown",
   "id": "3ad0c528",
   "metadata": {},
   "source": [
    "<p style=\"font-family:Verdana; font-size: 20px; color: orange\"> Step 2+: Plotting Distribution of Alcohol  </p>"
   ]
  },
  {
   "cell_type": "code",
   "execution_count": 9,
   "id": "4b87c6db",
   "metadata": {},
   "outputs": [
    {
     "data": {
      "image/png": "[encoded data removed]",
      "text/plain": [
       "<Figure size 800x400 with 2 Axes>"
      ]
     },
     "metadata": {},
     "output_type": "display_data"
    }
   ],
   "source": [
    "fig, ax = plt.subplots(1, 2, figsize=(8, 4))\n",
    "ax[0].hist(wines[wines['type'] == 1].alcohol, bins=10, facecolor='red', alpha=0.5, label='Red wine')\n",
    "ax[1].hist(wines[wines['type'] == 0].alcohol, bins=10, facecolor='white', edgecolor='black', lw=0.5, alpha=0.5, label='White wine')\n",
    "\n",
    "for a in ax:\n",
    "    a.set_ylim([0, 1000])\n",
    "    a.set_xlabel('Alcohol in % Vol')\n",
    "    a.set_ylabel('Frequency')\n",
    "\n",
    "ax[0].set_title('Alcohol Content in Red Wine')\n",
    "ax[1].set_title('Alcohol Content in White Wine')\n",
    "\n",
    "fig.suptitle('Distribution of Alcohol by Wine Type')\n",
    "plt.tight_layout()\n",
    "plt.show()"
   ]
  },
  {
   "cell_type": "markdown",
   "id": "a857ba43",
   "metadata": {},
   "source": [
    "<p style=\"font-family:Verdana; font-size: 20px; color: orange\"> Step 3: Splitting the Dataset into Test and Train Sets</p>"
   ]
  },
  {
   "cell_type": "code",
   "execution_count": 11,
   "id": "4222360e",
   "metadata": {},
   "outputs": [
    {
     "name": "stdout",
     "output_type": "stream",
     "text": [
      "Train set: (4288, 12) (4288,)\n",
      "Test set: (2209, 12) (2209,)\n"
     ]
    }
   ],
   "source": [
    "X = wines.iloc[:, :-1]\n",
    "y = wines['type']\n",
    "X_train, X_test, y_train, y_test = train_test_split(X, y, test_size=0.34, random_state=45)\n",
    "print ('Train set:', X_train.shape,  y_train.shape)\n",
    "print ('Test set:', X_test.shape,  y_test.shape)\n"
   ]
  },
  {
   "cell_type": "markdown",
   "id": "30a854ec",
   "metadata": {},
   "source": [
    "<p style=\"font-family:Verdana; font-size: 20px; color: orange\"> 4. Creating Neural Network Model</p>"
   ]
  },
  {
   "cell_type": "code",
   "execution_count": 13,
   "id": "dc8f3775",
   "metadata": {},
   "outputs": [],
   "source": [
    "# Input layer: Dense(12) with 12 neurons and ReLU activation function, \n",
    "# where input_dim=12 matches the number of features (columns) in the input data.\n",
    "\n",
    "# Hidden layer: Dense(9) with 9 neurons and ReLU activation.\n",
    "\n",
    "# Output layer: Dense(1) with a single neuron and a sigmoid activation function, \n",
    "# since this is a binary classification problem (predicting red or white wine).\n",
    "\n",
    "# The model is compiled using the binary crossentropy loss function and the Adam optimizer."
   ]
  },
  {
   "cell_type": "code",
   "execution_count": 12,
   "id": "2ce3745c",
   "metadata": {},
   "outputs": [
    {
     "name": "stderr",
     "output_type": "stream",
     "text": [
      "c:\\Users\\38067\\anaconda3\\Lib\\site-packages\\keras\\src\\layers\\core\\dense.py:93: UserWarning: Do not pass an `input_shape`/`input_dim` argument to a layer. When using Sequential models, prefer using an `Input(shape)` object as the first layer in the model instead.\n",
      "  super().__init__(activity_regularizer=activity_regularizer, **kwargs)\n"
     ]
    }
   ],
   "source": [
    "model = Sequential()\n",
    "model.add(Dense(12, activation='relu', input_dim=12))\n",
    "model.add(Dense(9, activation='relu'))\n",
    "model.add(Dense(1, activation='sigmoid'))\n",
    "model.compile(loss='binary_crossentropy', optimizer='adam', metrics=['accuracy'])"
   ]
  },
  {
   "cell_type": "markdown",
   "id": "55903a78",
   "metadata": {},
   "source": [
    "<p style=\"font-family:Verdana; font-size: 20px; color: orange\"> Step 5: Training the Model and Making Predictions</p>"
   ]
  },
  {
   "cell_type": "code",
   "execution_count": 14,
   "id": "7822622d",
   "metadata": {},
   "outputs": [
    {
     "name": "stdout",
     "output_type": "stream",
     "text": [
      "Epoch 1/3\n",
      "\u001b[1m4288/4288\u001b[0m \u001b[32m━━━━━━━━━━━━━━━━━━━━\u001b[0m\u001b[37m\u001b[0m \u001b[1m29s\u001b[0m 4ms/step - accuracy: 0.8879 - loss: 0.3345\n",
      "Epoch 2/3\n",
      "\u001b[1m4288/4288\u001b[0m \u001b[32m━━━━━━━━━━━━━━━━━━━━\u001b[0m\u001b[37m\u001b[0m \u001b[1m17s\u001b[0m 4ms/step - accuracy: 0.9268 - loss: 0.2048\n",
      "Epoch 3/3\n",
      "\u001b[1m4288/4288\u001b[0m \u001b[32m━━━━━━━━━━━━━━━━━━━━\u001b[0m\u001b[37m\u001b[0m \u001b[1m19s\u001b[0m 4ms/step - accuracy: 0.9453 - loss: 0.1682\n",
      "\u001b[1m70/70\u001b[0m \u001b[32m━━━━━━━━━━━━━━━━━━━━\u001b[0m\u001b[37m\u001b[0m \u001b[1m0s\u001b[0m 4ms/step\n",
      "Predictions:  [[0.07914836]\n",
      " [0.03664708]\n",
      " [0.02076787]\n",
      " ...\n",
      " [0.02862129]\n",
      " [0.04355928]\n",
      " [0.00070597]]\n"
     ]
    }
   ],
   "source": [
    "model.fit(X_train, y_train, epochs=3, batch_size=1, verbose=1)\n",
    "\n",
    "y_pred = model.predict(X_test)\n",
    "\n",
    "print(\"Predictions: \", y_pred)"
   ]
  },
  {
   "cell_type": "code",
   "execution_count": null,
   "id": "068084e5",
   "metadata": {},
   "outputs": [],
   "source": [
    "# Trains the model using the training data (X_train, y_train) for 3 epochs with a batch size of 1.\n",
    "# After training the model is used to make predictions on the test data (X_test).\n",
    "# The predictions (y_pred) are returned."
   ]
  },
  {
   "cell_type": "markdown",
   "id": "6be62b5a",
   "metadata": {},
   "source": [
    "<p style=\"font-family:Verdana; font-size: 20px; color: orange\"> Step 6: Evaluating Logistic Regression Model</p>"
   ]
  },
  {
   "cell_type": "code",
   "execution_count": null,
   "id": "f0161b3d",
   "metadata": {},
   "outputs": [],
   "source": [
    "# The output shows the accuracy improves from 89.93% in the first epoch to 94.87% in the third \n",
    "# while the loss decreases from 0.3280 to 0.1415 indicating better performance."
   ]
  }
 ],
 "metadata": {
  "kernelspec": {
   "display_name": "Python 3",
   "language": "python",
   "name": "python3"
  },
  "language_info": {
   "codemirror_mode": {
    "name": "ipython",
    "version": 3
   },
   "file_extension": ".py",
   "mimetype": "text/x-python",
   "name": "python",
   "nbconvert_exporter": "python",
   "pygments_lexer": "ipython3",
   "version": "3.12.7"
  }
 },
 "nbformat": 4,
 "nbformat_minor": 5
}
