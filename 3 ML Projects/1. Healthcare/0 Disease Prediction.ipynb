{
 "cells": [
  {
   "cell_type": "markdown",
   "id": "a003dc77",
   "metadata": {},
   "source": [
    "<p style=\"font-family:Verdana; font-size: 26px; color: cyan\"> 0 Disease Prediction Using Machine Learning</p>"
   ]
  },
  {
   "cell_type": "code",
   "execution_count": 1,
   "id": "786a0760",
   "metadata": {},
   "outputs": [],
   "source": [
    "# Disease prediction using machine learning is used in healthcare \n",
    "# to provide accurate and early diagnosis based on patient symptoms."
   ]
  },
  {
   "cell_type": "markdown",
   "id": "10b4febe",
   "metadata": {},
   "source": [
    "<p style=\"font-family:Verdana; font-size: 20px; color: orange\"> Step 1: Import Libraries</p>"
   ]
  },
  {
   "cell_type": "code",
   "execution_count": 1,
   "id": "7e0ab16e",
   "metadata": {},
   "outputs": [],
   "source": [
    "import numpy as np\n",
    "import pandas as pd\n",
    "from scipy.stats import mode\n",
    "import matplotlib.pyplot as plt\n",
    "import seaborn as sns\n",
    "from sklearn.preprocessing import LabelEncoder\n",
    "from sklearn.model_selection import train_test_split, cross_val_score\n",
    "from sklearn.svm import SVC\n",
    "from sklearn.naive_bayes import GaussianNB\n",
    "from sklearn.ensemble import RandomForestClassifier\n",
    "from sklearn.metrics import accuracy_score, confusion_matrix"
   ]
  },
  {
   "cell_type": "markdown",
   "id": "4afb7a19",
   "metadata": {},
   "source": [
    "<p style=\"font-family:Verdana; font-size: 20px; color: orange\"> 2. Step 2: Reading the dataset</p>"
   ]
  },
  {
   "cell_type": "code",
   "execution_count": 3,
   "id": "34c776fc",
   "metadata": {},
   "outputs": [],
   "source": [
    "# In this step we load the dataset and encode disease labels into numbers \n",
    "# and visualize class distribution to check for imbalance.\n",
    "df = pd.read_csv('../../data/improved_disease_dataset.csv')\n",
    "encoder = LabelEncoder()\n",
    "df[\"disease\"] = encoder.fit_transform(df[\"disease\"])\n",
    "\n",
    "X = df.iloc[:, :-1]\n",
    "y = df.iloc[:, -1]"
   ]
  },
  {
   "cell_type": "code",
   "execution_count": 4,
   "id": "100ee3e7",
   "metadata": {},
   "outputs": [],
   "source": [
    "# use RandomOverSampler to balance the dataset by duplicating minority classes \n",
    "# and ensuring all diseases have equal samples for fair and effective model training.\n",
    "from imblearn.over_sampling import RandomOverSampler"
   ]
  },
  {
   "cell_type": "code",
   "execution_count": 6,
   "id": "8ec4a532",
   "metadata": {},
   "outputs": [
    {
     "data": {
      "image/png": "[encoded data removed]",
      "text/plain": [
       "<Figure size 1000x500 with 1 Axes>"
      ]
     },
     "metadata": {},
     "output_type": "display_data"
    },
    {
     "name": "stdout",
     "output_type": "stream",
     "text": [
      "Resampled Class Distribution:\n",
      " disease\n",
      "29    90\n",
      "11    90\n",
      "4     90\n",
      "18    90\n",
      "23    90\n",
      "1     90\n",
      "12    90\n",
      "30    90\n",
      "32    90\n",
      "9     90\n",
      "20    90\n",
      "36    90\n",
      "15    90\n",
      "19    90\n",
      "27    90\n",
      "3     90\n",
      "25    90\n",
      "0     90\n",
      "5     90\n",
      "22    90\n",
      "35    90\n",
      "31    90\n",
      "16    90\n",
      "24    90\n",
      "7     90\n",
      "17    90\n",
      "34    90\n",
      "10    90\n",
      "37    90\n",
      "6     90\n",
      "33    90\n",
      "21    90\n",
      "26    90\n",
      "13    90\n",
      "28    90\n",
      "14    90\n",
      "8     90\n",
      "2     90\n",
      "Name: count, dtype: int64\n"
     ]
    }
   ],
   "source": [
    "plt.figure(figsize=(10, 5))\n",
    "sns.countplot(x=y)\n",
    "plt.title(\"Disease Class Distribution Before Resampling\")\n",
    "plt.xticks(rotation=90)\n",
    "plt.show()\n",
    "\n",
    "ros = RandomOverSampler(random_state=42)\n",
    "X_resampled, y_resampled = ros.fit_resample(X, y)\n",
    "\n",
    "print(\"Resampled Class Distribution:\\n\", pd.Series(y_resampled).value_counts())"
   ]
  },
  {
   "cell_type": "markdown",
   "id": "34686ee9",
   "metadata": {},
   "source": [
    "<p style=\"font-family:Verdana; font-size: 20px; color: orange\"> Step 3: Cross-Validation with Stratified K-Fold</p>"
   ]
  },
  {
   "cell_type": "markdown",
   "id": "a571b6c2",
   "metadata": {},
   "source": [
    "> We use Stratified K-Fold Cross-Validation to evaluate three machine learning models. "
   ]
  },
  {
   "cell_type": "code",
   "execution_count": 8,
   "id": "dd9b877b",
   "metadata": {},
   "outputs": [],
   "source": [
    "# Stratified K-Fold Cross Validation is a technique used for evaluating a model. \n",
    "# It is particularly useful for classification problems in which the class labels \n",
    "# are not evenly distributed i.e data is imbalanced.\n",
    "if 'gender' in X_resampled.columns:\n",
    "    le = LabelEncoder()\n",
    "    X_resampled['gender'] = le.fit_transform(X_resampled['gender'])\n",
    "\n",
    "X_resampled = X_resampled.fillna(0)\n",
    "\n",
    "if len(y_resampled.shape) > 1:\n",
    "    # In NumPy, both ravel() and flatten() functions \n",
    "    # are used to convert a multi-dimensional array into a one-dimensional array\n",
    "     \n",
    "    y_resampled = y_resampled.values.ravel()\n"
   ]
  },
  {
   "cell_type": "code",
   "execution_count": 9,
   "id": "37418ce9",
   "metadata": {},
   "outputs": [],
   "source": [
    "from sklearn.tree import DecisionTreeClassifier\n",
    "\n",
    "models = {\n",
    "    \"Decision Tree\": DecisionTreeClassifier(),\n",
    "    \"Random Forest\": RandomForestClassifier()\n",
    "}"
   ]
  },
  {
   "cell_type": "code",
   "execution_count": 10,
   "id": "1ba062b9",
   "metadata": {},
   "outputs": [],
   "source": [
    "\n",
    "from sklearn.model_selection import StratifiedKFold\n",
    "\n",
    "cv_scoring = 'accuracy'  # you can also use 'f1_weighted', 'roc_auc_ovr' for multi-class\n",
    "stratified_kfold = StratifiedKFold(n_splits=5, shuffle=True, random_state=42)"
   ]
  },
  {
   "cell_type": "code",
   "execution_count": 11,
   "id": "ba8ffbc2",
   "metadata": {},
   "outputs": [
    {
     "name": "stdout",
     "output_type": "stream",
     "text": [
      "==================================================\n",
      "Model: Decision Tree\n",
      "Scores: [0.5497076  0.54532164 0.53508772 0.53654971 0.52631579]\n",
      "Mean Accuracy: 0.5386\n",
      "==================================================\n",
      "Model: Random Forest\n",
      "Scores: [0.54678363 0.54532164 0.55116959 0.53947368 0.53216374]\n",
      "Mean Accuracy: 0.5430\n"
     ]
    }
   ],
   "source": [
    "for model_name, model in models.items():\n",
    "    try:\n",
    "        scores = cross_val_score(\n",
    "            model,\n",
    "            X_resampled,\n",
    "            y_resampled,\n",
    "            cv=stratified_kfold,\n",
    "            scoring=cv_scoring,\n",
    "            n_jobs=-1,\n",
    "            error_score='raise' \n",
    "        )\n",
    "        print(\"=\" * 50)\n",
    "        print(f\"Model: {model_name}\")\n",
    "        print(f\"Scores: {scores}\")\n",
    "        print(f\"Mean Accuracy: {scores.mean():.4f}\")\n",
    "    except Exception as e:\n",
    "        print(\"=\" * 50)\n",
    "        print(f\"Model: {model_name} failed with error:\")\n",
    "        print(e)"
   ]
  },
  {
   "cell_type": "code",
   "execution_count": 12,
   "id": "0bdb13f2",
   "metadata": {},
   "outputs": [],
   "source": [
    "# The output shows the evaluation results for three models SVC, Gaussian Naive Bayes and Random Forest using cross-validation. \n",
    "# Each model has two accuracy scores: 1.0 and approximately 0.976 indicating consistently high performance across all folds."
   ]
  },
  {
   "cell_type": "markdown",
   "id": "4291df8c",
   "metadata": {},
   "source": [
    "<p style=\"font-family:Verdana; font-size: 20px; color: orange\"> Step 4: Training Individual Models</p>"
   ]
  },
  {
   "cell_type": "code",
   "execution_count": 16,
   "id": "d3b889e4",
   "metadata": {},
   "outputs": [],
   "source": [
    "# After evaluating the models using cross-validation we train them on the resampled dataset  "
   ]
  },
  {
   "cell_type": "code",
   "execution_count": 17,
   "id": "f9453e78",
   "metadata": {},
   "outputs": [
    {
     "name": "stdout",
     "output_type": "stream",
     "text": [
      "SVM Accuracy: 60.53%\n"
     ]
    }
   ],
   "source": [
    "# Support Vector Machine (SVM) is a supervised machine learning algorithm used for classification and regression tasks.\n",
    "svm_model = SVC()\n",
    "svm_model.fit(X_resampled, y_resampled)\n",
    "svm_preds = svm_model.predict(X_resampled)\n",
    "\n",
    "print(f\"SVM Accuracy: {accuracy_score(y_resampled, svm_preds) * 100:.2f}%\")"
   ]
  },
  {
   "cell_type": "code",
   "execution_count": 18,
   "id": "0a0532f4",
   "metadata": {},
   "outputs": [
    {
     "name": "stdout",
     "output_type": "stream",
     "text": [
      "Naive Bayes Accuracy: 37.98%\n"
     ]
    }
   ],
   "source": [
    "# Gaussian Naive Bayes is a type of Naive Bayes method working on continuous attributes \n",
    "# and the data features that follows Gaussian distribution throughout the dataset.\n",
    "nb_model = GaussianNB()\n",
    "nb_model.fit(X_resampled, y_resampled)\n",
    "nb_preds = nb_model.predict(X_resampled)\n",
    "\n",
    "print(f\"Naive Bayes Accuracy: {accuracy_score(y_resampled, nb_preds) * 100:.2f}%\")"
   ]
  },
  {
   "cell_type": "code",
   "execution_count": 24,
   "id": "9b5abf92",
   "metadata": {},
   "outputs": [
    {
     "name": "stdout",
     "output_type": "stream",
     "text": [
      "Random Forest Accuracy: 68.98%\n"
     ]
    }
   ],
   "source": [
    "# Random Forest is a method that combines the predictions of multiple decision trees \n",
    "# to produce a more accurate and stable result. \n",
    "# It can be used for both classification and regression tasks.\n",
    "rf_model = RandomForestClassifier(random_state=42)\n",
    "rf_model.fit(X_resampled, y_resampled)\n",
    "rf_preds = rf_model.predict(X_resampled)\n",
    "\n",
    "print(f\"Random Forest Accuracy: {accuracy_score(y_resampled, rf_preds) * 100:.2f}%\")"
   ]
  },
  {
   "cell_type": "markdown",
   "id": "14432d7a",
   "metadata": {},
   "source": [
    "<p style=\"font-family:Verdana; font-size: 20px; color: orange\"> Step 5: Combining Predictions for Robustness</p>"
   ]
  },
  {
   "cell_type": "code",
   "execution_count": 21,
   "id": "5edd120f",
   "metadata": {},
   "outputs": [
    {
     "name": "stdout",
     "output_type": "stream",
     "text": [
      "Combined Model Accuracy: 60.64%\n"
     ]
    }
   ],
   "source": [
    "from statistics import mode\n",
    "# mode: Return the most common data point from discrete or nominal data.\n",
    "final_preds = [mode([i, j, k]) for i, j, k in zip(svm_preds, nb_preds, rf_preds)]\n",
    "\n",
    "print(f\"Combined Model Accuracy: {accuracy_score(y_resampled, final_preds) * 100:.2f}%\")"
   ]
  },
  {
   "cell_type": "markdown",
   "id": "d7aa0e86",
   "metadata": {},
   "source": [
    "<p style=\"font-family:Verdana; font-size: 20px; color: orange\"> Step 6: Creating Prediction Function</p>"
   ]
  },
  {
   "cell_type": "markdown",
   "id": "94a0e9f7",
   "metadata": {},
   "source": [
    "> Finally, we create a function that takes symptoms as input and predicts the disease using the combined model."
   ]
  },
  {
   "cell_type": "code",
   "execution_count": 22,
   "id": "520e76b9",
   "metadata": {},
   "outputs": [
    {
     "name": "stdout",
     "output_type": "stream",
     "text": [
      "{'Random Forest Prediction': 'Heart attack', 'Naive Bayes Prediction': 'Urinary tract infection', 'SVM Prediction': 'Impetigo', 'Final Prediction': 'Heart attack'}\n"
     ]
    },
    {
     "name": "stderr",
     "output_type": "stream",
     "text": [
      "c:\\Users\\38067\\anaconda3\\Lib\\site-packages\\sklearn\\base.py:493: UserWarning: X does not have valid feature names, but RandomForestClassifier was fitted with feature names\n",
      "  warnings.warn(\n",
      "c:\\Users\\38067\\anaconda3\\Lib\\site-packages\\sklearn\\base.py:493: UserWarning: X does not have valid feature names, but GaussianNB was fitted with feature names\n",
      "  warnings.warn(\n",
      "c:\\Users\\38067\\anaconda3\\Lib\\site-packages\\sklearn\\base.py:493: UserWarning: X does not have valid feature names, but SVC was fitted with feature names\n",
      "  warnings.warn(\n"
     ]
    }
   ],
   "source": [
    "symptoms = X.columns.values\n",
    "symptom_index = {symptom: idx for idx, symptom in enumerate(symptoms)}\n",
    "\n",
    "def predict_disease(input_symptoms):\n",
    "    input_symptoms = input_symptoms.split(\",\")\n",
    "    input_data = [0] * len(symptom_index)\n",
    "    \n",
    "    for symptom in input_symptoms:\n",
    "        if symptom in symptom_index:\n",
    "            input_data[symptom_index[symptom]] = 1\n",
    "    \n",
    "    input_data = np.array(input_data).reshape(1, -1)\n",
    "\n",
    "    rf_pred = encoder.classes_[rf_model.predict(input_data)[0]]\n",
    "    nb_pred = encoder.classes_[nb_model.predict(input_data)[0]]\n",
    "    svm_pred = encoder.classes_[svm_model.predict(input_data)[0]]\n",
    "\n",
    "    final_pred = mode([rf_pred, nb_pred, svm_pred])\n",
    "    \n",
    "    return {\n",
    "        \"Random Forest Prediction\": rf_pred,\n",
    "        \"Naive Bayes Prediction\": nb_pred,\n",
    "        \"SVM Prediction\": svm_pred,\n",
    "        \"Final Prediction\": final_pred\n",
    "    }\n",
    "\n",
    "print(predict_disease(\"Itching,Skin Rash,Nodal Skin Eruptions\"))"
   ]
  },
  {
   "cell_type": "markdown",
   "id": "e6579885",
   "metadata": {},
   "source": [
    "> <p style=\"font-family:Verdana; font-size: 20px; color: orange\"> {'Random Forest Prediction': 'Heart attack'}</p>\n",
    "\n",
    "> <p style=\"font-family:Verdana; font-size: 20px; color: orange\"> {'Naive Bayes Prediction': 'Urinary tract infection' }</p>\n",
    "\n",
    "> <p style=\"font-family:Verdana; font-size: 20px; color: orange\"> {'SVM Prediction': 'Impetigo' }</p>\n",
    "\n",
    "> <p style=\"font-family:Verdana; font-size: 20px; color: orange\"> {'Final Prediction': 'Heart attack'}</p>"
   ]
  }
 ],
 "metadata": {
  "kernelspec": {
   "display_name": "base",
   "language": "python",
   "name": "python3"
  },
  "language_info": {
   "codemirror_mode": {
    "name": "ipython",
    "version": 3
   },
   "file_extension": ".py",
   "mimetype": "text/x-python",
   "name": "python",
   "nbconvert_exporter": "python",
   "pygments_lexer": "ipython3",
   "version": "3.12.7"
  }
 },
 "nbformat": 4,
 "nbformat_minor": 5
}
