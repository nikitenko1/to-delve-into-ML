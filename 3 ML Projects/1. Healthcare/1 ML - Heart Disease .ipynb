{
 "cells": [
  {
   "cell_type": "markdown",
   "id": "a003dc77",
   "metadata": {},
   "source": [
    "<p style=\"font-family:Verdana; font-size: 26px; color: magenta\"> 1 ML - Heart Disease Prediction Using Logistic Regression</p>"
   ]
  },
  {
   "cell_type": "markdown",
   "id": "10b4febe",
   "metadata": {},
   "source": [
    "<p style=\"font-family:Verdana; font-size: 18px; color: darkorange\"> 1. Data Collection:</p> \n",
    "<p style=\"font-family:Verdana; font-size: 18px; color: darkorange\"> 2. Data Preprocessing:</p>\n",
    "<p style=\"font-family:Verdana; font-size: 18px; color: darkorange\"> 3. Feature Selection:</p>\n",
    "<p style=\"font-family:Verdana; font-size: 18px; color: darkorange\"> 4. Splitting the Dataset:</p>\n",
    "<p style=\"font-family:Verdana; font-size: 18px; color: darkorange\"> 5. Training the Model:</p>\n",
    "<p style=\"font-family:Verdana; font-size: 18px; color: darkorange\"> 6. Evaluating the Model:</p>\n",
    "<p style=\"font-family:Verdana; font-size: 18px; color: darkorange\"> 7. Making Predictions:</p>"
   ]
  },
  {
   "cell_type": "markdown",
   "id": "75ac2781",
   "metadata": {},
   "source": [
    "<p style=\"font-family:Verdana; font-size: 18px; color: orange\"> Step 1: Importing Necessary Libraries</p>"
   ]
  },
  {
   "cell_type": "code",
   "execution_count": 1,
   "id": "7e0ab16e",
   "metadata": {},
   "outputs": [],
   "source": [
    "import pandas as pd\n",
    "import pylab as pl\n",
    "import numpy as np\n",
    "import scipy.optimize as opt\n",
    "import statsmodels.api as sm\n",
    "from sklearn import preprocessing\n",
    "import matplotlib.pyplot as plt\n",
    "import matplotlib.mlab as mlab\n",
    "import seaborn as sns"
   ]
  },
  {
   "cell_type": "markdown",
   "id": "4afb7a19",
   "metadata": {},
   "source": [
    "<p style=\"font-family:Verdana; font-size: 20px; color: orange\"> Step 2: Data Preparation</p>"
   ]
  },
  {
   "cell_type": "code",
   "execution_count": 6,
   "id": "34c776fc",
   "metadata": {},
   "outputs": [
    {
     "data": {
      "text/plain": [
       "(   Sex_male  age  currentSmoker  cigsPerDay  BPMeds  prevalentStroke  \\\n",
       " 0         1   39              0         0.0     0.0                0   \n",
       " 1         0   46              0         0.0     0.0                0   \n",
       " 2         1   48              1        20.0     0.0                0   \n",
       " 3         0   61              1        30.0     0.0                0   \n",
       " 4         0   46              1        23.0     0.0                0   \n",
       " \n",
       "    prevalentHyp  diabetes  totChol  sysBP  diaBP    BMI  heartRate  glucose  \\\n",
       " 0             0         0    195.0  106.0   70.0  26.97       80.0     77.0   \n",
       " 1             0         0    250.0  121.0   81.0  28.73       95.0     76.0   \n",
       " 2             0         0    245.0  127.5   80.0  25.34       75.0     70.0   \n",
       " 3             1         0    225.0  150.0   95.0  28.58       65.0    103.0   \n",
       " 4             0         0    285.0  130.0   84.0  23.10       85.0     85.0   \n",
       " \n",
       "    TenYearCHD  \n",
       " 0           0  \n",
       " 1           0  \n",
       " 2           0  \n",
       " 3           1  \n",
       " 4           0  ,\n",
       " (3751, 15))"
      ]
     },
     "execution_count": 6,
     "metadata": {},
     "output_type": "execute_result"
    }
   ],
   "source": [
    "# In this step we load the dataset and encode disease labels into numbers \n",
    "# and visualize class distribution to check for imbalance.\n",
    "df = pd.read_csv('../../data/framingham.csv')\n",
    "df.drop(['education'], inplace = True, axis = 1)\n",
    "df.rename(columns ={'male':'Sex_male'}, inplace = True)\n",
    "# This removes any rows with missing values (NaN) from the DataFrame.\n",
    "df.dropna(axis = 0, inplace = True)\n",
    "df.head(), df.shape "
   ]
  },
  {
   "cell_type": "code",
   "execution_count": 7,
   "id": "807d6541",
   "metadata": {},
   "outputs": [
    {
     "data": {
      "text/plain": [
       "TenYearCHD\n",
       "0    3179\n",
       "1     572\n",
       "Name: count, dtype: int64"
      ]
     },
     "execution_count": 7,
     "metadata": {},
     "output_type": "execute_result"
    }
   ],
   "source": [
    "df.TenYearCHD.value_counts()"
   ]
  },
  {
   "cell_type": "markdown",
   "id": "3ad0c528",
   "metadata": {},
   "source": [
    "<p style=\"font-family:Verdana; font-size: 20px; color: orange\"> Step 3: Splitting the Dataset into Test and Train Sets</p>"
   ]
  },
  {
   "cell_type": "code",
   "execution_count": 9,
   "id": "4222360e",
   "metadata": {},
   "outputs": [],
   "source": [
    "# X=preprocessing.StandardScaler().fit(X).transform(X): \n",
    "# This scales the features in X to have a mean of 0 and standard deviation of 1 using StandardScaler\n",
    "# Training set (70% of data, X_train and y_train)\n",
    "# Test set (30% of data, X_test and y_test)\n",
    "# random_state=42 ensures the split is reproducible.\n",
    "from sklearn.model_selection import train_test_split"
   ]
  },
  {
   "cell_type": "code",
   "execution_count": 10,
   "id": "e33c53ed",
   "metadata": {},
   "outputs": [
    {
     "name": "stdout",
     "output_type": "stream",
     "text": [
      "Train set: (2625, 6) (2625,)\n",
      "Test set: (1126, 6) (1126,)\n"
     ]
    }
   ],
   "source": [
    "X = np.asarray(df[['age', 'Sex_male', 'cigsPerDay', \n",
    "                           'totChol', 'sysBP', 'glucose']])\n",
    "y = np.asarray(df['TenYearCHD'])\n",
    "\n",
    "X = preprocessing.StandardScaler().fit(X).transform(X)\n",
    "\n",
    "X_train, X_test, y_train, y_test = train_test_split( \n",
    "        X, y, test_size = 0.3, random_state = 42)\n",
    "\n",
    "print ('Train set:', X_train.shape,  y_train.shape)\n",
    "print ('Test set:', X_test.shape,  y_test.shape)\n",
    "\n"
   ]
  },
  {
   "cell_type": "markdown",
   "id": "30a854ec",
   "metadata": {},
   "source": [
    "<p style=\"font-family:Verdana; font-size: 20px; color: orange\"> Step 4: Exploratory Data Analysis of Heart Disease Dataset</p>"
   ]
  },
  {
   "cell_type": "code",
   "execution_count": 11,
   "id": "dc8f3775",
   "metadata": {},
   "outputs": [],
   "source": [
    "# Exploratory Data Analysis (EDA) is a important step in data science as it visualizing data to understand its main features, \n",
    "# find patterns and discover how different parts of the data are connected"
   ]
  },
  {
   "cell_type": "code",
   "execution_count": 24,
   "id": "2ce3745c",
   "metadata": {},
   "outputs": [
    {
     "data": {
      "image/png": "[encoded data removed]",
      "text/plain": [
       "<Figure size 600x400 with 1 Axes>"
      ]
     },
     "metadata": {},
     "output_type": "display_data"
    }
   ],
   "source": [
    "# Ten Year's CHD Record of all the patients available in the dataset:\n",
    "# This creates a count plot using Seaborn.\n",
    "# distribution of the values in the TenYearCHD column \n",
    "# showing how many individuals have heart disease (1) vs. how many don’t (0).\n",
    "plt.figure(figsize=(6, 4))\n",
    "sns.countplot(x='TenYearCHD', data=df,\n",
    "             hue='TenYearCHD',\n",
    "             palette=\"Greens\")\n",
    "plt.show()"
   ]
  },
  {
   "cell_type": "markdown",
   "id": "146b5a82",
   "metadata": {},
   "source": [
    "> The count plot shows a high imbalance in the dataset \n",
    "\n",
    ">> Counting number of patients affected by CHD where (0= Not Affected; 1= Affected)"
   ]
  },
  {
   "cell_type": "code",
   "execution_count": 19,
   "id": "d4576f30",
   "metadata": {},
   "outputs": [
    {
     "data": {
      "image/png": "[encoded data removed]",
      "text/plain": [
       "<Figure size 640x480 with 1 Axes>"
      ]
     },
     "metadata": {},
     "output_type": "display_data"
    },
    {
     "data": {
      "text/plain": [
       "<Figure size 300x200 with 0 Axes>"
      ]
     },
     "metadata": {},
     "output_type": "display_data"
    }
   ],
   "source": [
    "laste = df['TenYearCHD'].plot()\n",
    "plt.show(laste)"
   ]
  },
  {
   "cell_type": "code",
   "execution_count": 20,
   "id": "3548a4f2",
   "metadata": {},
   "outputs": [],
   "source": [
    "# Blue bars: Indicate the absence of heart disease.\n",
    "# White space (gaps): These represent the presence of heart disease."
   ]
  },
  {
   "cell_type": "markdown",
   "id": "55903a78",
   "metadata": {},
   "source": [
    "<p style=\"font-family:Verdana; font-size: 20px; color: orange\"> Step 5: Fitting Logistic Regression Model for Heart Disease Prediction</p>"
   ]
  },
  {
   "cell_type": "code",
   "execution_count": 21,
   "id": "7822622d",
   "metadata": {},
   "outputs": [],
   "source": [
    "from sklearn.linear_model import LogisticRegression\n",
    "logreg = LogisticRegression()\n",
    "logreg.fit(X_train, y_train)\n",
    "y_pred = logreg.predict(X_test)"
   ]
  },
  {
   "cell_type": "markdown",
   "id": "6be62b5a",
   "metadata": {},
   "source": [
    "<p style=\"font-family:Verdana; font-size: 20px; color: orange\"> Step 6: Evaluating Logistic Regression Model</p>"
   ]
  },
  {
   "cell_type": "code",
   "execution_count": 22,
   "id": "908fed84",
   "metadata": {},
   "outputs": [
    {
     "name": "stdout",
     "output_type": "stream",
     "text": [
      "Accuracy of the model is = 0.8339253996447602\n"
     ]
    }
   ],
   "source": [
    "from sklearn.metrics import accuracy_score\n",
    "print('Accuracy of the model is =', \n",
    "      accuracy_score(y_test, y_pred))"
   ]
  },
  {
   "cell_type": "code",
   "execution_count": 25,
   "id": "cf31f71d",
   "metadata": {},
   "outputs": [
    {
     "name": "stdout",
     "output_type": "stream",
     "text": [
      "The details for confusion matrix is =\n",
      "              precision    recall  f1-score   support\n",
      "\n",
      "           0       0.84      0.99      0.91       938\n",
      "           1       0.52      0.06      0.11       188\n",
      "\n",
      "    accuracy                           0.83      1126\n",
      "   macro avg       0.68      0.52      0.51      1126\n",
      "weighted avg       0.79      0.83      0.77      1126\n",
      "\n"
     ]
    },
    {
     "data": {
      "image/png": "[encoded data removed]",
      "text/plain": [
       "<Figure size 800x500 with 2 Axes>"
      ]
     },
     "metadata": {},
     "output_type": "display_data"
    }
   ],
   "source": [
    "from sklearn.metrics import confusion_matrix, classification_report\n",
    "\n",
    "print('The details for confusion matrix is =')\n",
    "print (classification_report(y_test, y_pred))\n",
    "\n",
    "cm = confusion_matrix(y_test, y_pred)\n",
    "conf_matrix = pd.DataFrame(data = cm, \n",
    "                           columns = ['Predicted:0', 'Predicted:1'], \n",
    "                           index =['Actual:0', 'Actual:1'])\n",
    "\n",
    "plt.figure(figsize = (8, 5))\n",
    "sns.heatmap(conf_matrix, annot = True, fmt = 'd', cmap = \"Greens\")\n",
    "\n",
    "plt.show()"
   ]
  },
  {
   "cell_type": "code",
   "execution_count": null,
   "id": "0f1f69c2",
   "metadata": {},
   "outputs": [
    {
     "name": "stdout",
     "output_type": "stream",
     "text": [
      "The details for confusion matrix is =\n",
      "              precision    recall  f1-score   support\n",
      "\n",
      "           0       0.84      0.99      0.91       938\n",
      "           1       0.52      0.06      0.11       188\n",
      "\n",
      "    accuracy                           0.83      1126\n",
      "   macro avg       0.68      0.52      0.51      1126\n",
      "weighted avg       0.79      0.83      0.77      1126\n",
      "\n"
     ]
    },
    {
     "data": {
      "image/png": "[encoded data removed]",
      "text/plain": [
       "<Figure size 800x500 with 2 Axes>"
      ]
     },
     "metadata": {},
     "output_type": "display_data"
    }
   ],
   "source": [
    "from sklearn.metrics import confusion_matrix, classification_report\n",
    "\n",
    "print('The details for confusion matrix is =')\n",
    "print (classification_report(y_test, y_pred))\n",
    "\n",
    "cm = confusion_matrix(y_test, y_pred)\n",
    "conf_matrix = pd.DataFrame(data = cm, \n",
    "                           columns = ['Predicted:0', 'Predicted:1'], \n",
    "                           index =['Actual:0', 'Actual:1'])\n",
    "\n",
    "plt.figure(figsize = (8, 5))\n",
    "sns.heatmap(conf_matrix, annot = True, fmt = 'd', cmap = \"Greens\")\n",
    "\n",
    "plt.show()"
   ]
  }
 ],
 "metadata": {
  "kernelspec": {
   "display_name": "Python 3",
   "language": "python",
   "name": "python3"
  },
  "language_info": {
   "codemirror_mode": {
    "name": "ipython",
    "version": 3
   },
   "file_extension": ".py",
   "mimetype": "text/x-python",
   "name": "python",
   "nbconvert_exporter": "python",
   "pygments_lexer": "ipython3",
   "version": "3.12.7"
  }
 },
 "nbformat": 4,
 "nbformat_minor": 5
}
