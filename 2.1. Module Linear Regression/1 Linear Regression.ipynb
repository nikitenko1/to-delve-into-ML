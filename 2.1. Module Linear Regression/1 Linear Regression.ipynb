{
 "cells": [
  {
   "cell_type": "markdown",
   "id": "a003dc77",
   "metadata": {},
   "source": [
    "<p style=\"font-family:Verdana; font-size: 22px; color: cyan\"> Python Implementation of Linear Regression</p>"
   ]
  },
  {
   "cell_type": "code",
   "execution_count": 1,
   "id": "786a0760",
   "metadata": {},
   "outputs": [],
   "source": [
    "#  Regression in machine learning refers to a supervised learning technique"
   ]
  },
  {
   "cell_type": "markdown",
   "id": "10b4febe",
   "metadata": {},
   "source": [
    "<p style=\"font-family:Verdana; font-size: 20px; color: orange\"> 1. Import the necessary libraries:</p>"
   ]
  },
  {
   "cell_type": "code",
   "execution_count": 1,
   "id": "7e0ab16e",
   "metadata": {},
   "outputs": [],
   "source": [
    "import pandas as pd\n",
    "import numpy as np\n",
    "import matplotlib.pyplot as plt\n",
    "import matplotlib.axes as ax\n",
    "from matplotlib.animation import FuncAnimation"
   ]
  },
  {
   "cell_type": "markdown",
   "id": "4afb7a19",
   "metadata": {},
   "source": [
    "<p style=\"font-family:Verdana; font-size: 20px; color: orange\"> 2. Load the dataset and separate input and Target variables</p>"
   ]
  },
  {
   "cell_type": "code",
   "execution_count": 2,
   "id": "34c776fc",
   "metadata": {},
   "outputs": [
    {
     "data": {
      "text/html": [
       "<div>\n",
       "<style scoped>\n",
       "    .dataframe tbody tr th:only-of-type {\n",
       "        vertical-align: middle;\n",
       "    }\n",
       "\n",
       "    .dataframe tbody tr th {\n",
       "        vertical-align: top;\n",
       "    }\n",
       "\n",
       "    .dataframe thead th {\n",
       "        text-align: right;\n",
       "    }\n",
       "</style>\n",
       "<table border=\"1\" class=\"dataframe\">\n",
       "  <thead>\n",
       "    <tr style=\"text-align: right;\">\n",
       "      <th></th>\n",
       "      <th>x</th>\n",
       "      <th>y</th>\n",
       "    </tr>\n",
       "  </thead>\n",
       "  <tbody>\n",
       "    <tr>\n",
       "      <th>0</th>\n",
       "      <td>24.0</td>\n",
       "      <td>21.549452</td>\n",
       "    </tr>\n",
       "    <tr>\n",
       "      <th>1</th>\n",
       "      <td>50.0</td>\n",
       "      <td>47.464463</td>\n",
       "    </tr>\n",
       "    <tr>\n",
       "      <th>2</th>\n",
       "      <td>15.0</td>\n",
       "      <td>17.218656</td>\n",
       "    </tr>\n",
       "    <tr>\n",
       "      <th>3</th>\n",
       "      <td>38.0</td>\n",
       "      <td>36.586398</td>\n",
       "    </tr>\n",
       "    <tr>\n",
       "      <th>4</th>\n",
       "      <td>87.0</td>\n",
       "      <td>87.288984</td>\n",
       "    </tr>\n",
       "  </tbody>\n",
       "</table>\n",
       "</div>"
      ],
      "text/plain": [
       "      x          y\n",
       "0  24.0  21.549452\n",
       "1  50.0  47.464463\n",
       "2  15.0  17.218656\n",
       "3  38.0  36.586398\n",
       "4  87.0  87.288984"
      ]
     },
     "execution_count": 2,
     "metadata": {},
     "output_type": "execute_result"
    }
   ],
   "source": [
    "# Load the dataset\n",
    "df = pd.read_csv('../data/data_for_lr.csv')\n",
    "df.head()"
   ]
  },
  {
   "cell_type": "code",
   "execution_count": 3,
   "id": "33b733b9",
   "metadata": {},
   "outputs": [],
   "source": [
    " \n",
    "\n",
    "# Drop the missing values\n",
    "data = df.dropna()\n",
    "\n",
    "# training dataset and labels\n",
    "train_input = np.array(data.x[0:500]).reshape(500, 1)\n",
    "train_output = np.array(data.y[0:500]).reshape(500, 1)\n",
    "\n",
    "# valid dataset and labels\n",
    "test_input = np.array(data.x[500:700]).reshape(199, 1)\n",
    "test_output = np.array(data.y[500:700]).reshape(199, 1)"
   ]
  },
  {
   "cell_type": "markdown",
   "id": "34686ee9",
   "metadata": {},
   "source": [
    "<p style=\"font-family:Verdana; font-size: 20px; color: orange\"> 3. Build the Linear Regression Model and Plot the regression line</p>"
   ]
  },
  {
   "cell_type": "markdown",
   "id": "a571b6c2",
   "metadata": {},
   "source": [
    "> In forward propagation Linear regression function Y=mx+c is applied by initially assigning random value of parameter (m & c).\n",
    "\n",
    ">> The we have written the function to finding the cost function i.e the mean "
   ]
  },
  {
   "cell_type": "code",
   "execution_count": 5,
   "id": "dd9b877b",
   "metadata": {},
   "outputs": [],
   "source": [
    "class LinearRegression: \n",
    "    def __init__(self): \n",
    "        self.parameters = {} \n",
    "\n",
    "    def forward_propagation(self, train_input): \n",
    "        m = self.parameters['m'] \n",
    "        c = self.parameters['c'] \n",
    "        predictions = np.multiply(m, train_input) + c \n",
    "        return predictions \n",
    "\n",
    "    def cost_function(self, predictions, train_output): \n",
    "        cost = np.mean((train_output - predictions) ** 2) \n",
    "        return cost \n",
    "\n",
    "    def backward_propagation(self, train_input, train_output, predictions): \n",
    "        derivatives = {} \n",
    "        df = (predictions-train_output) \n",
    "        # dm= 2/n * mean of (predictions-actual) * input \n",
    "        dm = 2 * np.mean(np.multiply(train_input, df)) \n",
    "        # dc = 2/n * mean of (predictions-actual) \n",
    "        dc = 2 * np.mean(df) \n",
    "        derivatives['dm'] = dm \n",
    "        derivatives['dc'] = dc \n",
    "        return derivatives \n",
    "\n",
    "    def update_parameters(self, derivatives, learning_rate): \n",
    "        self.parameters['m'] = self.parameters['m'] - learning_rate * derivatives['dm'] \n",
    "        self.parameters['c'] = self.parameters['c'] - learning_rate * derivatives['dc'] \n",
    "\n",
    "    def train(self, train_input, train_output, learning_rate, iters): \n",
    "        # Initialize random parameters \n",
    "        self.parameters['m'] = np.random.uniform(0, 1) * -1\n",
    "        self.parameters['c'] = np.random.uniform(0, 1) * -1\n",
    "\n",
    "        # Initialize loss \n",
    "        self.loss = [] \n",
    "\n",
    "        # Initialize figure and axis for animation \n",
    "        fig, ax = plt.subplots() \n",
    "        x_vals = np.linspace(min(train_input), max(train_input), 100) \n",
    "        line, = ax.plot(x_vals, self.parameters['m'] * x_vals +\n",
    "                        self.parameters['c'], color='red', label='Regression Line') \n",
    "        ax.scatter(train_input, train_output, marker='o', \n",
    "                color='green', label='Training Data') \n",
    "\n",
    "        # Set y-axis limits to exclude negative values \n",
    "        ax.set_ylim(0, max(train_output) + 1) \n",
    "\n",
    "        def update(frame): \n",
    "            # Forward propagation \n",
    "            predictions = self.forward_propagation(train_input) \n",
    "\n",
    "            # Cost function \n",
    "            cost = self.cost_function(predictions, train_output) \n",
    "\n",
    "            # Back propagation \n",
    "            derivatives = self.backward_propagation( \n",
    "                train_input, train_output, predictions) \n",
    "\n",
    "            # Update parameters \n",
    "            self.update_parameters(derivatives, learning_rate) \n",
    "\n",
    "            # Update the regression line \n",
    "            line.set_ydata(self.parameters['m'] \n",
    "                        * x_vals + self.parameters['c']) \n",
    "\n",
    "            # Append loss and print \n",
    "            self.loss.append(cost) \n",
    "            print(\"Iteration = {}, Loss = {}\".format(frame + 1, cost)) \n",
    "\n",
    "            return line, \n",
    "        # Create animation \n",
    "        ani = FuncAnimation(fig, update, frames=iters, interval=200, blit=True) \n",
    "\n",
    "        # Save the animation as a video file (e.g., MP4) \n",
    "        ani.save('linear_regression_A.gif', writer='ffmpeg') \n",
    "\n",
    "        plt.xlabel('Input') \n",
    "        plt.ylabel('Output') \n",
    "        plt.title('Linear Regression') \n",
    "        plt.legend() \n",
    "        plt.show() \n",
    "\n",
    "        return self.parameters, self.loss "
   ]
  },
  {
   "cell_type": "markdown",
   "id": "4291df8c",
   "metadata": {},
   "source": [
    "<p style=\"font-family:Verdana; font-size: 20px; color: orange\"> 4. Trained the model and Final Prediction</p>"
   ]
  },
  {
   "cell_type": "code",
   "execution_count": 6,
   "id": "87e95e75",
   "metadata": {},
   "outputs": [
    {
     "name": "stderr",
     "output_type": "stream",
     "text": [
      "MovieWriter ffmpeg unavailable; using Pillow instead.\n"
     ]
    },
    {
     "name": "stdout",
     "output_type": "stream",
     "text": [
      "Iteration = 1, Loss = 9423.346204397712\n",
      "Iteration = 1, Loss = 1142.5527425055636\n",
      "Iteration = 1, Loss = 144.62700733620608\n",
      "Iteration = 1, Loss = 24.36609024099255\n",
      "Iteration = 2, Loss = 9.873335055752966\n",
      "Iteration = 3, Loss = 8.126794420644122\n",
      "Iteration = 4, Loss = 7.916311352193989\n",
      "Iteration = 5, Loss = 7.890939937520734\n",
      "Iteration = 6, Loss = 7.887876492231386\n",
      "Iteration = 7, Loss = 7.887501400618717\n",
      "Iteration = 8, Loss = 7.887450285476258\n",
      "Iteration = 9, Loss = 7.8874382136198475\n",
      "Iteration = 10, Loss = 7.887430847499893\n",
      "Iteration = 11, Loss = 7.887424049067937\n",
      "Iteration = 12, Loss = 7.887417319644041\n",
      "Iteration = 13, Loss = 7.887410599131785\n",
      "Iteration = 14, Loss = 7.887403880288843\n",
      "Iteration = 15, Loss = 7.8873971622423635\n",
      "Iteration = 16, Loss = 7.887390444887109\n",
      "Iteration = 17, Loss = 7.88738372821033\n",
      "Iteration = 18, Loss = 7.88737701221044\n",
      "Iteration = 19, Loss = 7.887370296887178\n",
      "Iteration = 20, Loss = 7.887363582240457\n"
     ]
    },
    {
     "data": {
      "image/png": "[encoded data removed]",
      "text/plain": [
       "<Figure size 640x480 with 1 Axes>"
      ]
     },
     "metadata": {},
     "output_type": "display_data"
    }
   ],
   "source": [
    "#Example usage\n",
    "linear_reg = LinearRegression()\n",
    "parameters, loss = linear_reg.train(train_input, train_output, 0.0001, 20)"
   ]
  },
  {
   "cell_type": "markdown",
   "id": "57bdd16c",
   "metadata": {},
   "source": [
    "> **Positive Linear Regression Line**: A positive linear regression line indicates a direct relationship between the independent variable (X) and the dependent variable (Y).\n",
    "\n",
    ">> **Negative Linear Regression Line**: A negative linear regression line indicates an inverse relationship between the independent variable (X) and the dependent variable (Y)."
   ]
  },
  {
   "cell_type": "code",
   "execution_count": null,
   "id": "8240fa15",
   "metadata": {},
   "outputs": [],
   "source": []
  }
 ],
 "metadata": {
  "kernelspec": {
   "display_name": "base",
   "language": "python",
   "name": "python3"
  },
  "language_info": {
   "codemirror_mode": {
    "name": "ipython",
    "version": 3
   },
   "file_extension": ".py",
   "mimetype": "text/x-python",
   "name": "python",
   "nbconvert_exporter": "python",
   "pygments_lexer": "ipython3",
   "version": "3.12.7"
  }
 },
 "nbformat": 4,
 "nbformat_minor": 5
}
